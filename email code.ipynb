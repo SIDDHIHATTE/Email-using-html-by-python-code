{
 "cells": [
  {
   "cell_type": "markdown",
   "id": "b514870e",
   "metadata": {},
   "source": [
    "# Email code by python using html"
   ]
  },
  {
   "cell_type": "code",
   "execution_count": 1,
   "id": "4b823bc6",
   "metadata": {},
   "outputs": [],
   "source": [
    "import smtplib \n",
    "from email.message import EmailMessage"
   ]
  },
  {
   "cell_type": "code",
   "execution_count": 2,
   "id": "02e923ff",
   "metadata": {},
   "outputs": [],
   "source": [
    "from string import Template\n",
    "from pathlib import Path"
   ]
  },
  {
   "cell_type": "code",
   "execution_count": 3,
   "id": "d32d4620",
   "metadata": {},
   "outputs": [
    {
     "name": "stdout",
     "output_type": "stream",
     "text": [
      "Enter users name.\n",
      "Enter email id whom  you want to send.\n",
      "Enter name whom you want to send.\n"
     ]
    }
   ],
   "source": [
    "#Try with your own templates\n",
    "html = Template(Path('index1.html').read_text())\n",
    "\n",
    "email = EmailMessage()\n",
    "\n",
    "name = (input(\"Enter users name.\"))\n",
    "\n",
    "email['from'] = f'{name}'\n",
    "\n",
    "email_id = (input(\"Enter email id whom  you want to send.\"))\n",
    "\n",
    "email['to'] = f'{email_id}'\n",
    "\n",
    "email['subject'] = 'Greeting'\n",
    "\n",
    "name2 = input(\"Enter name whom you want to send.\")\n",
    "\n",
    "email.set_content(html.substitute({'name':f'{name2}'}), 'html')"
   ]
  },
  {
   "cell_type": "code",
   "execution_count": 4,
   "id": "b9ed6918",
   "metadata": {},
   "outputs": [
    {
     "name": "stdout",
     "output_type": "stream",
     "text": [
      "Enter users email id.\n",
      "Enter passward of users email_id\n"
     ]
    },
    {
     "ename": "TypeError",
     "evalue": "can only concatenate str (not \"bytes\") to str",
     "output_type": "error",
     "traceback": [
      "\u001b[1;31m---------------------------------------------------------------------------\u001b[0m",
      "\u001b[1;31mTypeError\u001b[0m                                 Traceback (most recent call last)",
      "\u001b[1;32m~\\AppData\\Local\\Temp/ipykernel_20964/4260789842.py\u001b[0m in \u001b[0;36m<module>\u001b[1;34m\u001b[0m\n\u001b[0;32m      6\u001b[0m     \u001b[0mpassward\u001b[0m \u001b[1;33m=\u001b[0m \u001b[0minput\u001b[0m\u001b[1;33m(\u001b[0m\u001b[1;34m'Enter passward of users email_id'\u001b[0m\u001b[1;33m)\u001b[0m\u001b[1;33m\u001b[0m\u001b[1;33m\u001b[0m\u001b[0m\n\u001b[0;32m      7\u001b[0m \u001b[1;33m\u001b[0m\u001b[0m\n\u001b[1;32m----> 8\u001b[1;33m     \u001b[0msmtp\u001b[0m\u001b[1;33m.\u001b[0m\u001b[0mlogin\u001b[0m\u001b[1;33m(\u001b[0m\u001b[1;34mf'{email_id1}'\u001b[0m\u001b[1;33m,\u001b[0m \u001b[1;34mf'{ passward}'\u001b[0m\u001b[1;33m)\u001b[0m\u001b[1;33m\u001b[0m\u001b[1;33m\u001b[0m\u001b[0m\n\u001b[0m\u001b[0;32m      9\u001b[0m     \u001b[0msmtp\u001b[0m\u001b[1;33m.\u001b[0m\u001b[0msend_message\u001b[0m\u001b[1;33m(\u001b[0m\u001b[0memail\u001b[0m\u001b[1;33m)\u001b[0m\u001b[1;33m\u001b[0m\u001b[1;33m\u001b[0m\u001b[0m\n\u001b[0;32m     10\u001b[0m     \u001b[0mprint\u001b[0m\u001b[1;33m(\u001b[0m\u001b[1;34m\"All done!!!\"\u001b[0m\u001b[1;33m)\u001b[0m\u001b[1;33m\u001b[0m\u001b[1;33m\u001b[0m\u001b[0m\n",
      "\u001b[1;32m~\\anaconda3\\lib\\smtplib.py\u001b[0m in \u001b[0;36mlogin\u001b[1;34m(self, user, password, initial_response_ok)\u001b[0m\n\u001b[0;32m    737\u001b[0m             \u001b[0mmethod_name\u001b[0m \u001b[1;33m=\u001b[0m \u001b[1;34m'auth_'\u001b[0m \u001b[1;33m+\u001b[0m \u001b[0mauthmethod\u001b[0m\u001b[1;33m.\u001b[0m\u001b[0mlower\u001b[0m\u001b[1;33m(\u001b[0m\u001b[1;33m)\u001b[0m\u001b[1;33m.\u001b[0m\u001b[0mreplace\u001b[0m\u001b[1;33m(\u001b[0m\u001b[1;34m'-'\u001b[0m\u001b[1;33m,\u001b[0m \u001b[1;34m'_'\u001b[0m\u001b[1;33m)\u001b[0m\u001b[1;33m\u001b[0m\u001b[1;33m\u001b[0m\u001b[0m\n\u001b[0;32m    738\u001b[0m             \u001b[1;32mtry\u001b[0m\u001b[1;33m:\u001b[0m\u001b[1;33m\u001b[0m\u001b[1;33m\u001b[0m\u001b[0m\n\u001b[1;32m--> 739\u001b[1;33m                 (code, resp) = self.auth(\n\u001b[0m\u001b[0;32m    740\u001b[0m                     \u001b[0mauthmethod\u001b[0m\u001b[1;33m,\u001b[0m \u001b[0mgetattr\u001b[0m\u001b[1;33m(\u001b[0m\u001b[0mself\u001b[0m\u001b[1;33m,\u001b[0m \u001b[0mmethod_name\u001b[0m\u001b[1;33m)\u001b[0m\u001b[1;33m,\u001b[0m\u001b[1;33m\u001b[0m\u001b[1;33m\u001b[0m\u001b[0m\n\u001b[0;32m    741\u001b[0m                     initial_response_ok=initial_response_ok)\n",
      "\u001b[1;32m~\\anaconda3\\lib\\smtplib.py\u001b[0m in \u001b[0;36mauth\u001b[1;34m(self, mechanism, authobject, initial_response_ok)\u001b[0m\n\u001b[0;32m    640\u001b[0m         \u001b[1;32mif\u001b[0m \u001b[0minitial_response\u001b[0m \u001b[1;32mis\u001b[0m \u001b[1;32mnot\u001b[0m \u001b[1;32mNone\u001b[0m\u001b[1;33m:\u001b[0m\u001b[1;33m\u001b[0m\u001b[1;33m\u001b[0m\u001b[0m\n\u001b[0;32m    641\u001b[0m             \u001b[0mresponse\u001b[0m \u001b[1;33m=\u001b[0m \u001b[0mencode_base64\u001b[0m\u001b[1;33m(\u001b[0m\u001b[0minitial_response\u001b[0m\u001b[1;33m.\u001b[0m\u001b[0mencode\u001b[0m\u001b[1;33m(\u001b[0m\u001b[1;34m'ascii'\u001b[0m\u001b[1;33m)\u001b[0m\u001b[1;33m,\u001b[0m \u001b[0meol\u001b[0m\u001b[1;33m=\u001b[0m\u001b[1;34m''\u001b[0m\u001b[1;33m)\u001b[0m\u001b[1;33m\u001b[0m\u001b[1;33m\u001b[0m\u001b[0m\n\u001b[1;32m--> 642\u001b[1;33m             \u001b[1;33m(\u001b[0m\u001b[0mcode\u001b[0m\u001b[1;33m,\u001b[0m \u001b[0mresp\u001b[0m\u001b[1;33m)\u001b[0m \u001b[1;33m=\u001b[0m \u001b[0mself\u001b[0m\u001b[1;33m.\u001b[0m\u001b[0mdocmd\u001b[0m\u001b[1;33m(\u001b[0m\u001b[1;34m\"AUTH\"\u001b[0m\u001b[1;33m,\u001b[0m \u001b[0mmechanism\u001b[0m \u001b[1;33m+\u001b[0m \u001b[1;34m\" \"\u001b[0m \u001b[1;33m+\u001b[0m \u001b[0mresponse\u001b[0m\u001b[1;33m)\u001b[0m\u001b[1;33m\u001b[0m\u001b[1;33m\u001b[0m\u001b[0m\n\u001b[0m\u001b[0;32m    643\u001b[0m             \u001b[0mself\u001b[0m\u001b[1;33m.\u001b[0m\u001b[0m_auth_challenge_count\u001b[0m \u001b[1;33m=\u001b[0m \u001b[1;36m1\u001b[0m\u001b[1;33m\u001b[0m\u001b[1;33m\u001b[0m\u001b[0m\n\u001b[0;32m    644\u001b[0m         \u001b[1;32melse\u001b[0m\u001b[1;33m:\u001b[0m\u001b[1;33m\u001b[0m\u001b[1;33m\u001b[0m\u001b[0m\n",
      "\u001b[1;31mTypeError\u001b[0m: can only concatenate str (not \"bytes\") to str"
     ]
    }
   ],
   "source": [
    "with smtplib.SMTP(host = 'smtp.gmail.com', port = 587) as smtp:\n",
    "    smtp.ehlo() \n",
    "    smtp.starttls() \n",
    "    \n",
    "    email_id1 = input(\"Enter users email id.\")\n",
    "    passward = input('Enter passward of users email_id')\n",
    "    \n",
    "    smtp.login(f'{email_id1}', f'{ passward}') \n",
    "    smtp.send_message(email) \n",
    "    print(\"All done!!!\")"
   ]
  },
  {
   "cell_type": "code",
   "execution_count": null,
   "id": "5e24c333",
   "metadata": {},
   "outputs": [],
   "source": []
  }
 ],
 "metadata": {
  "kernelspec": {
   "display_name": "Python 3 (ipykernel)",
   "language": "python",
   "name": "python3"
  },
  "language_info": {
   "codemirror_mode": {
    "name": "ipython",
    "version": 3
   },
   "file_extension": ".py",
   "mimetype": "text/x-python",
   "name": "python",
   "nbconvert_exporter": "python",
   "pygments_lexer": "ipython3",
   "version": "3.9.7"
  }
 },
 "nbformat": 4,
 "nbformat_minor": 5
}
